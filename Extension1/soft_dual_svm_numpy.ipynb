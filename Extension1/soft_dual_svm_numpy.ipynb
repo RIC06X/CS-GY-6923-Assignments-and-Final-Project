{
 "metadata": {
  "language_info": {
   "codemirror_mode": {
    "name": "ipython",
    "version": 3
   },
   "file_extension": ".py",
   "mimetype": "text/x-python",
   "name": "python",
   "nbconvert_exporter": "python",
   "pygments_lexer": "ipython3",
   "version": "3.8.5-final"
  },
  "orig_nbformat": 2,
  "kernelspec": {
   "name": "python3",
   "display_name": "Python 3"
  }
 },
 "nbformat": 4,
 "nbformat_minor": 2,
 "cells": [
  {
   "cell_type": "code",
   "execution_count": 331,
   "metadata": {},
   "outputs": [],
   "source": [
    "from sklearn.datasets import load_digits # The MNIST data set is in scikit learn data set\n",
    "from sklearn.preprocessing import StandardScaler  # It is important in neural networks to scale the date\n",
    "from sklearn.model_selection import train_test_split  # The standard - train/test to prevent overfitting and choose hyperparameters\n",
    "from sklearn.metrics import accuracy_score # \n",
    "import numpy as np\n",
    "import numpy.random as r # We will randomly initialize our weights\n",
    "import matplotlib.pyplot as plt \n",
    "from math import exp"
   ]
  },
  {
   "cell_type": "code",
   "execution_count": 332,
   "metadata": {},
   "outputs": [],
   "source": [
    "import csv\n",
    "from numpy import genfromtxt"
   ]
  },
  {
   "source": [
    "## SVM dual hard margin"
   ],
   "cell_type": "markdown",
   "metadata": {}
  },
  {
   "cell_type": "code",
   "execution_count": 333,
   "metadata": {},
   "outputs": [],
   "source": [
    "X = genfromtxt('X.csv', delimiter=',') # reading in the data matrix\n",
    "y = genfromtxt('y.csv', delimiter=',') # reading in the labels"
   ]
  },
  {
   "cell_type": "code",
   "execution_count": 334,
   "metadata": {},
   "outputs": [
    {
     "output_type": "stream",
     "name": "stdout",
     "text": [
      "(30, 2). (30,); (70, 2), (70,)\n"
     ]
    }
   ],
   "source": [
    "X_train, X_test, y_train, y_test = train_test_split(X, y, test_size=0.7,random_state=2)\n",
    "print(f\"{X_train.shape}. {y_train.shape}; {X_test.shape}, {y_test.shape}\")"
   ]
  },
  {
   "cell_type": "code",
   "execution_count": 335,
   "metadata": {},
   "outputs": [],
   "source": [
    "from cvxopt import matrix, solvers"
   ]
  },
  {
   "cell_type": "code",
   "execution_count": 336,
   "metadata": {},
   "outputs": [
    {
     "output_type": "stream",
     "name": "stdout",
     "text": [
      "     pcost       dcost       gap    pres   dres\n 0: -2.7601e+00 -5.3406e+00  7e+01  7e+00  2e+00\n 1: -4.0598e+00 -3.0175e+00  1e+01  1e+00  3e-01\n 2: -2.2566e+00 -2.3205e+00  1e+00  9e-02  2e-02\n 3: -2.1323e+00 -2.1543e+00  5e-02  3e-03  7e-04\n 4: -2.1411e+00 -2.1421e+00  1e-03  4e-05  9e-06\n 5: -2.1414e+00 -2.1414e+00  1e-05  4e-07  9e-08\n 6: -2.1414e+00 -2.1414e+00  1e-07  4e-09  9e-10\nOptimal solution found.\n"
     ]
    }
   ],
   "source": [
    "def kernel_svm(X, y):\n",
    "    N = len(y)\n",
    "    alphas = []\n",
    "    y = y.reshape(-1, 1)\n",
    "    yX = y * X\n",
    "    P = matrix(yX.dot(yX.T))\n",
    "    q = matrix((-1) * np.ones(X.shape[0]).reshape((X.shape[0], 1)))\n",
    "    G = matrix((-1) * np.identity(X.shape[0]))\n",
    "    h = matrix(np.zeros(X.shape[0]))\n",
    "    A = matrix(y.reshape(1,-1))\n",
    "    A = matrix(A, (1, X.shape[0]), 'd')\n",
    "    b = matrix(np.zeros(1))\n",
    "    sol = solvers.qp(P, q, G, h, A, b)\n",
    "    alphas = np.array(sol['x']).flatten()\n",
    "    return alphas\n",
    "alphas = kernel_svm(X_train, y_train)"
   ]
  },
  {
   "cell_type": "code",
   "execution_count": 337,
   "metadata": {},
   "outputs": [
    {
     "output_type": "stream",
     "name": "stdout",
     "text": [
      "-0.2158414145270886\n"
     ]
    }
   ],
   "source": [
    "def compute_classification_boundary(X, y, alpha):\n",
    "    indices = [alphas > 1e-12]\n",
    "    w = np.dot(X.T, alphas*y).reshape(-1,1)\n",
    "    w0 = y[indices] - np.dot(X[indices], w)\n",
    "    w0 = np.mean(w0)\n",
    "    return w, w0\n",
    "\n",
    "w, w0 = compute_classification_boundary(X_train, y_train, alphas)\n",
    "print(f\"{w0}\")"
   ]
  },
  {
   "cell_type": "code",
   "execution_count": 338,
   "metadata": {},
   "outputs": [],
   "source": [
    "support_vectors = []\n",
    "for i in range(len(alphas)):\n",
    "    if alphas[i] > 1e-12:\n",
    "        support_vectors.append([X_train[i], y_train[i], i])\n",
    "alpha_indices = [support_vectors[i][2] for i in range(len(support_vectors))]\n",
    "def classify_num(x):\n",
    "    res = 0\n",
    "    for i in range(len(support_vectors)):\n",
    "        res += alphas[alpha_indices[i]]*y_train[alpha_indices[i]]*K(X_train[alpha_indices[i]],x)\n",
    "    if (res >= 0):\n",
    "        return 1\n",
    "    else:\n",
    "        return -1"
   ]
  },
  {
   "cell_type": "code",
   "execution_count": 339,
   "metadata": {},
   "outputs": [
    {
     "output_type": "stream",
     "name": "stdout",
     "text": [
      "Prediction accuracy is 100.0%\n"
     ]
    }
   ],
   "source": [
    "pred = []\n",
    "for i in range(len(X_test)):\n",
    "    pred.append(classify_num(X_test[i]))\n",
    "print('Prediction accuracy is {}%'.format(accuracy_score(y_test, pred) * 100))"
   ]
  },
  {
   "source": [
    "## SVM dual soft margin"
   ],
   "cell_type": "markdown",
   "metadata": {}
  },
  {
   "cell_type": "code",
   "execution_count": 340,
   "metadata": {},
   "outputs": [
    {
     "output_type": "stream",
     "name": "stdout",
     "text": [
      "     pcost       dcost       gap    pres   dres\n 0: -1.4850e+00 -2.3817e-01  1e+02  1e+01  9e-16\n 1: -2.3680e-01 -2.1714e-01  3e+00  3e-01  6e-16\n 2: -7.9986e-02 -6.6523e-02  3e-01  2e-02  5e-16\n 3: -2.5200e-02 -5.2027e-02  3e-02  1e-04  1e-15\n 4: -2.5283e-02 -2.6046e-02  8e-04  3e-06  4e-16\n 5: -2.5315e-02 -2.5556e-02  2e-04  8e-07  3e-16\n 6: -2.5355e-02 -2.5420e-02  6e-05  1e-18  4e-16\n 7: -2.5374e-02 -2.5382e-02  9e-06  1e-18  4e-16\n 8: -2.5377e-02 -2.5378e-02  8e-07  1e-18  4e-16\n 9: -2.5377e-02 -2.5377e-02  1e-08  1e-18  3e-16\nOptimal solution found.\n"
     ]
    }
   ],
   "source": [
    "def kernel_svm_soft(X, y, C):\n",
    "    N = len(y)\n",
    "    alphas = []\n",
    "    y = y.reshape(-1, 1)\n",
    "    yX = y * X\n",
    "    \n",
    "    P = matrix(yX.dot(yX.T))\n",
    "    q = matrix((-1) * np.ones(X.shape[0]).reshape((X.shape[0], 1)))\n",
    "\n",
    "    G = matrix(np.vstack((-1 * np.diag(np.ones(X.shape[0])), np.identity(X.shape[0]))))\n",
    "    h = matrix(np.hstack((np.zeros(X.shape[0]), np.ones(X.shape[0])*C)))\n",
    "\n",
    "    A = matrix(y.reshape(1,-1))\n",
    "    A = matrix(A, (1, X.shape[0]), 'd')\n",
    "    b = matrix(np.zeros(1))\n",
    "    sol = solvers.qp(P, q, G, h, A, b)\n",
    "    alphas = np.array(sol['x']).flatten()\n",
    "    return alphas\n",
    "alphas = kernel_svm_soft(X_train, y_train, 0.001)"
   ]
  },
  {
   "cell_type": "code",
   "execution_count": 341,
   "metadata": {},
   "outputs": [
    {
     "output_type": "stream",
     "name": "stdout",
     "text": [
      "0.12893779846545228\n"
     ]
    }
   ],
   "source": [
    "w, w0 = compute_classification_boundary(X_train, y_train, alphas)\n",
    "print(f\"{w0}\")"
   ]
  },
  {
   "cell_type": "code",
   "execution_count": 342,
   "metadata": {},
   "outputs": [],
   "source": [
    "support_vectors = []\n",
    "for i in range(len(alphas)):\n",
    "    if alphas[i] > 1e-12:\n",
    "        support_vectors.append([X_train[i], y_train[i], i])\n",
    "alpha_indices = [support_vectors[i][2] for i in range(len(support_vectors))]\n",
    "def classify_num(x):\n",
    "    res = 0\n",
    "    for i in range(len(support_vectors)):\n",
    "        res += alphas[alpha_indices[i]]*y_train[alpha_indices[i]]*K(X_train[alpha_indices[i]],x)\n",
    "    if (res >= 0):\n",
    "        return 1\n",
    "    else:\n",
    "        return -1"
   ]
  },
  {
   "cell_type": "code",
   "execution_count": 343,
   "metadata": {},
   "outputs": [
    {
     "output_type": "stream",
     "name": "stdout",
     "text": [
      "Prediction accuracy is 100.0%\n"
     ]
    }
   ],
   "source": [
    "pred = []\n",
    "for i in range(len(X_test)):\n",
    "    pred.append(classify_num(X_test[i]))\n",
    "print('Prediction accuracy is {}%'.format(accuracy_score(y_test, pred) * 100))"
   ]
  },
  {
   "source": [
    "# Dataset: DIGITS"
   ],
   "cell_type": "markdown",
   "metadata": {}
  },
  {
   "source": [
    "## Data processing\n",
    "since svm can only classify 2 categories of data, we only extract two categories from dataset"
   ],
   "cell_type": "markdown",
   "metadata": {}
  },
  {
   "cell_type": "code",
   "execution_count": 344,
   "metadata": {},
   "outputs": [],
   "source": [
    "digits = load_digits()\n",
    "X , y = digits.data, digits.target\n",
    "X_scale = StandardScaler()\n",
    "X = X_scale.fit_transform(X)"
   ]
  },
  {
   "cell_type": "code",
   "execution_count": 345,
   "metadata": {},
   "outputs": [],
   "source": [
    "sub_X, sub_y = [], []\n",
    "for i in range(len(X)):\n",
    "    if y[i] == 2 or y[i] == 6:\n",
    "        sub_X.append(X[i])\n",
    "        sub_y.append(y[i])\n",
    "sub_X = np.array(sub_X)\n",
    "sub_y = np.array(sub_y)\n",
    "X = sub_X\n",
    "y = sub_y"
   ]
  },
  {
   "cell_type": "code",
   "execution_count": 346,
   "metadata": {},
   "outputs": [
    {
     "output_type": "stream",
     "name": "stdout",
     "text": [
      "2\n6\n2\n6\n2\n"
     ]
    },
    {
     "output_type": "display_data",
     "data": {
      "text/plain": "<Figure size 432x288 with 1 Axes>",
      "image/svg+xml": "<?xml version=\"1.0\" encoding=\"utf-8\" standalone=\"no\"?>\n<!DOCTYPE svg PUBLIC \"-//W3C//DTD SVG 1.1//EN\"\n  \"http://www.w3.org/Graphics/SVG/1.1/DTD/svg11.dtd\">\n<!-- Created with matplotlib (https://matplotlib.org/) -->\n<svg height=\"248.518125pt\" version=\"1.1\" viewBox=\"0 0 245.2025 248.518125\" width=\"245.2025pt\" xmlns=\"http://www.w3.org/2000/svg\" xmlns:xlink=\"http://www.w3.org/1999/xlink\">\n <metadata>\n  <rdf:RDF xmlns:cc=\"http://creativecommons.org/ns#\" xmlns:dc=\"http://purl.org/dc/elements/1.1/\" xmlns:rdf=\"http://www.w3.org/1999/02/22-rdf-syntax-ns#\">\n   <cc:Work>\n    <dc:type rdf:resource=\"http://purl.org/dc/dcmitype/StillImage\"/>\n    <dc:date>2020-12-05T02:41:44.340959</dc:date>\n    <dc:format>image/svg+xml</dc:format>\n    <dc:creator>\n     <cc:Agent>\n      <dc:title>Matplotlib v3.3.1, https://matplotlib.org/</dc:title>\n     </cc:Agent>\n    </dc:creator>\n   </cc:Work>\n  </rdf:RDF>\n </metadata>\n <defs>\n  <style type=\"text/css\">*{stroke-linecap:butt;stroke-linejoin:round;}</style>\n </defs>\n <g id=\"figure_1\">\n  <g id=\"patch_1\">\n   <path d=\"M 0 248.518125 \nL 245.2025 248.518125 \nL 245.2025 0 \nL 0 0 \nz\n\" style=\"fill:none;\"/>\n  </g>\n  <g id=\"axes_1\">\n   <g id=\"patch_2\">\n    <path d=\"M 20.5625 224.64 \nL 238.0025 224.64 \nL 238.0025 7.2 \nL 20.5625 7.2 \nz\n\" style=\"fill:#ffffff;\"/>\n   </g>\n   <g clip-path=\"url(#pe1c70ebc9f)\">\n    <image height=\"218\" id=\"image051db61266\" transform=\"scale(1 -1)translate(0 -218)\" width=\"218\" x=\"21\" xlink:href=\"data:image/png;base64,\niVBORw0KGgoAAAANSUhEUgAAANoAAADaCAYAAADAHVzbAAAD3ElEQVR4nO3cPYpfZRiH4edkTmb8yCQDVmaCEAmoIDFgbaFo6T60cyXiAiStVRALO1txA1oowdIiGDKG0Ywzmf/JLu4m17WBHwfOzds9y/tffb1N5JUn2dQ8fXvJtmZm9p90W9vabZ1+cJZt/fnp/WxrZuad+19mW1eyJXiJCQ0CQoOA0CAgNAgIDQJCg4DQICA0CAgNAkKDgNAgIDQICA0CQoOA0CAgNAgIDQJCg4DQICA0CAgNAkKDgNAgIDQICA0C69Jd6Z69825s/95JtjUzc37R3ek+/PFatrX+cpBtffhzd6J7ZubwstvyokFAaBAQGgSEBgGhQUBoEBAaBIQGAaFBQGgQEBoEhAYBoUFAaBAQGgSEBgGhQUBoEBAaBIQGAaFBQGgQEBoEhAYBoUFAaBAQGgTWCW/vr2e7bOvo28Nsa2bmvy9Osq312evZ1hsPfsu2nt+7k23NzPx999Vsy4sGAaFBQGgQEBoEhAYBoUFAaBAQGgSEBgGhQUBoEBAaBIQGAaFBQGgQEBoEhAYBoUFAaBAQGgSEBgGhQUBoEBAaBIQGAaFBYN32urG9Z91J8Nd+f5Rtzcyc/HQr2zp9L5uaGz9cdGNbeJ9+ZnZXuy0vGgSEBgGhQUBoEBAaBIQGAaFBQGgQEBoEhAYBoUFAaBAQGgSEBgGhQUBoEBAaBIQGAaFBQGgQEBoEhAYBoUFAaBAQGgSEBoF16a50z3p2mW3tjq5lWzMzx989zLYefvNmtrW8dZxtXVwPb3TPzNL9jl40KAgNAkKDgNAgIDQICA0CQoOA0CAgNAgIDQJCg4DQICA0CAgNAkKDgNAgIDQICA0CQoOA0CAgNAgIDQJCg4DQICA0CAgNAms5tlu7rv/6+Cjbmpm59f1ptrVtS7Z1fvNGtrW72n3XzMyV51u3lS3BS0xoEBAaBIQGAaFBQGgQEBoEhAYBoUFAaBAQGgSEBgGhQUBoEBAaBIQGAaFBQGgQEBoEhAYBoUFAaBAQGgSEBgGhQUBoEBAaBNbpzo/P6fF+tvXvzfDDZubRJ8fZ1vXDx9nW/q/d1v8f3cm2ZmbKf9+LBgGhQUBoEBAaBIQGAaFBQGgQEBoEhAYBoUFAaBAQGgSEBgGhQUBoEBAaBIQGAaFBQGgQEBoEhAYBoUFAaBAQGgSEBgGhQWDd9rqxZdfdYN4dtCfB//nsLNu6/fkf2dZ2991s6/JgybZmZiac86JBQGgQEBoEhAYBoUFAaBAQGgSEBgGhQUBoEBAaBIQGAaFBQGgQEBoEhAYBoUFAaBAQGgSEBgGhQUBoEBAaBIQGAaFBQGgQeAHHW1iRT3CqrwAAAABJRU5ErkJggg==\" y=\"-6.518125\"/>\n   </g>\n   <g id=\"matplotlib.axis_1\">\n    <g id=\"xtick_1\">\n     <g id=\"line2d_1\">\n      <defs>\n       <path d=\"M 0 0 \nL 0 3.5 \n\" id=\"mbc1737a8fa\" style=\"stroke:#000000;stroke-width:0.8;\"/>\n      </defs>\n      <g>\n       <use style=\"stroke:#000000;stroke-width:0.8;\" x=\"34.1525\" xlink:href=\"#mbc1737a8fa\" y=\"224.64\"/>\n      </g>\n     </g>\n     <g id=\"text_1\">\n      <!-- 0 -->\n      <g transform=\"translate(30.97125 239.238437)scale(0.1 -0.1)\">\n       <defs>\n        <path d=\"M 31.78125 66.40625 \nQ 24.171875 66.40625 20.328125 58.90625 \nQ 16.5 51.421875 16.5 36.375 \nQ 16.5 21.390625 20.328125 13.890625 \nQ 24.171875 6.390625 31.78125 6.390625 \nQ 39.453125 6.390625 43.28125 13.890625 \nQ 47.125 21.390625 47.125 36.375 \nQ 47.125 51.421875 43.28125 58.90625 \nQ 39.453125 66.40625 31.78125 66.40625 \nz\nM 31.78125 74.21875 \nQ 44.046875 74.21875 50.515625 64.515625 \nQ 56.984375 54.828125 56.984375 36.375 \nQ 56.984375 17.96875 50.515625 8.265625 \nQ 44.046875 -1.421875 31.78125 -1.421875 \nQ 19.53125 -1.421875 13.0625 8.265625 \nQ 6.59375 17.96875 6.59375 36.375 \nQ 6.59375 54.828125 13.0625 64.515625 \nQ 19.53125 74.21875 31.78125 74.21875 \nz\n\" id=\"DejaVuSans-48\"/>\n       </defs>\n       <use xlink:href=\"#DejaVuSans-48\"/>\n      </g>\n     </g>\n    </g>\n    <g id=\"xtick_2\">\n     <g id=\"line2d_2\">\n      <g>\n       <use style=\"stroke:#000000;stroke-width:0.8;\" x=\"88.5125\" xlink:href=\"#mbc1737a8fa\" y=\"224.64\"/>\n      </g>\n     </g>\n     <g id=\"text_2\">\n      <!-- 2 -->\n      <g transform=\"translate(85.33125 239.238437)scale(0.1 -0.1)\">\n       <defs>\n        <path d=\"M 19.1875 8.296875 \nL 53.609375 8.296875 \nL 53.609375 0 \nL 7.328125 0 \nL 7.328125 8.296875 \nQ 12.9375 14.109375 22.625 23.890625 \nQ 32.328125 33.6875 34.8125 36.53125 \nQ 39.546875 41.84375 41.421875 45.53125 \nQ 43.3125 49.21875 43.3125 52.78125 \nQ 43.3125 58.59375 39.234375 62.25 \nQ 35.15625 65.921875 28.609375 65.921875 \nQ 23.96875 65.921875 18.8125 64.3125 \nQ 13.671875 62.703125 7.8125 59.421875 \nL 7.8125 69.390625 \nQ 13.765625 71.78125 18.9375 73 \nQ 24.125 74.21875 28.421875 74.21875 \nQ 39.75 74.21875 46.484375 68.546875 \nQ 53.21875 62.890625 53.21875 53.421875 \nQ 53.21875 48.921875 51.53125 44.890625 \nQ 49.859375 40.875 45.40625 35.40625 \nQ 44.1875 33.984375 37.640625 27.21875 \nQ 31.109375 20.453125 19.1875 8.296875 \nz\n\" id=\"DejaVuSans-50\"/>\n       </defs>\n       <use xlink:href=\"#DejaVuSans-50\"/>\n      </g>\n     </g>\n    </g>\n    <g id=\"xtick_3\">\n     <g id=\"line2d_3\">\n      <g>\n       <use style=\"stroke:#000000;stroke-width:0.8;\" x=\"142.8725\" xlink:href=\"#mbc1737a8fa\" y=\"224.64\"/>\n      </g>\n     </g>\n     <g id=\"text_3\">\n      <!-- 4 -->\n      <g transform=\"translate(139.69125 239.238437)scale(0.1 -0.1)\">\n       <defs>\n        <path d=\"M 37.796875 64.3125 \nL 12.890625 25.390625 \nL 37.796875 25.390625 \nz\nM 35.203125 72.90625 \nL 47.609375 72.90625 \nL 47.609375 25.390625 \nL 58.015625 25.390625 \nL 58.015625 17.1875 \nL 47.609375 17.1875 \nL 47.609375 0 \nL 37.796875 0 \nL 37.796875 17.1875 \nL 4.890625 17.1875 \nL 4.890625 26.703125 \nz\n\" id=\"DejaVuSans-52\"/>\n       </defs>\n       <use xlink:href=\"#DejaVuSans-52\"/>\n      </g>\n     </g>\n    </g>\n    <g id=\"xtick_4\">\n     <g id=\"line2d_4\">\n      <g>\n       <use style=\"stroke:#000000;stroke-width:0.8;\" x=\"197.2325\" xlink:href=\"#mbc1737a8fa\" y=\"224.64\"/>\n      </g>\n     </g>\n     <g id=\"text_4\">\n      <!-- 6 -->\n      <g transform=\"translate(194.05125 239.238437)scale(0.1 -0.1)\">\n       <defs>\n        <path d=\"M 33.015625 40.375 \nQ 26.375 40.375 22.484375 35.828125 \nQ 18.609375 31.296875 18.609375 23.390625 \nQ 18.609375 15.53125 22.484375 10.953125 \nQ 26.375 6.390625 33.015625 6.390625 \nQ 39.65625 6.390625 43.53125 10.953125 \nQ 47.40625 15.53125 47.40625 23.390625 \nQ 47.40625 31.296875 43.53125 35.828125 \nQ 39.65625 40.375 33.015625 40.375 \nz\nM 52.59375 71.296875 \nL 52.59375 62.3125 \nQ 48.875 64.0625 45.09375 64.984375 \nQ 41.3125 65.921875 37.59375 65.921875 \nQ 27.828125 65.921875 22.671875 59.328125 \nQ 17.53125 52.734375 16.796875 39.40625 \nQ 19.671875 43.65625 24.015625 45.921875 \nQ 28.375 48.1875 33.59375 48.1875 \nQ 44.578125 48.1875 50.953125 41.515625 \nQ 57.328125 34.859375 57.328125 23.390625 \nQ 57.328125 12.15625 50.6875 5.359375 \nQ 44.046875 -1.421875 33.015625 -1.421875 \nQ 20.359375 -1.421875 13.671875 8.265625 \nQ 6.984375 17.96875 6.984375 36.375 \nQ 6.984375 53.65625 15.1875 63.9375 \nQ 23.390625 74.21875 37.203125 74.21875 \nQ 40.921875 74.21875 44.703125 73.484375 \nQ 48.484375 72.75 52.59375 71.296875 \nz\n\" id=\"DejaVuSans-54\"/>\n       </defs>\n       <use xlink:href=\"#DejaVuSans-54\"/>\n      </g>\n     </g>\n    </g>\n   </g>\n   <g id=\"matplotlib.axis_2\">\n    <g id=\"ytick_1\">\n     <g id=\"line2d_5\">\n      <defs>\n       <path d=\"M 0 0 \nL -3.5 0 \n\" id=\"m01276a84ad\" style=\"stroke:#000000;stroke-width:0.8;\"/>\n      </defs>\n      <g>\n       <use style=\"stroke:#000000;stroke-width:0.8;\" x=\"20.5625\" xlink:href=\"#m01276a84ad\" y=\"20.79\"/>\n      </g>\n     </g>\n     <g id=\"text_5\">\n      <!-- 0 -->\n      <g transform=\"translate(7.2 24.589219)scale(0.1 -0.1)\">\n       <use xlink:href=\"#DejaVuSans-48\"/>\n      </g>\n     </g>\n    </g>\n    <g id=\"ytick_2\">\n     <g id=\"line2d_6\">\n      <g>\n       <use style=\"stroke:#000000;stroke-width:0.8;\" x=\"20.5625\" xlink:href=\"#m01276a84ad\" y=\"47.97\"/>\n      </g>\n     </g>\n     <g id=\"text_6\">\n      <!-- 1 -->\n      <g transform=\"translate(7.2 51.769219)scale(0.1 -0.1)\">\n       <defs>\n        <path d=\"M 12.40625 8.296875 \nL 28.515625 8.296875 \nL 28.515625 63.921875 \nL 10.984375 60.40625 \nL 10.984375 69.390625 \nL 28.421875 72.90625 \nL 38.28125 72.90625 \nL 38.28125 8.296875 \nL 54.390625 8.296875 \nL 54.390625 0 \nL 12.40625 0 \nz\n\" id=\"DejaVuSans-49\"/>\n       </defs>\n       <use xlink:href=\"#DejaVuSans-49\"/>\n      </g>\n     </g>\n    </g>\n    <g id=\"ytick_3\">\n     <g id=\"line2d_7\">\n      <g>\n       <use style=\"stroke:#000000;stroke-width:0.8;\" x=\"20.5625\" xlink:href=\"#m01276a84ad\" y=\"75.15\"/>\n      </g>\n     </g>\n     <g id=\"text_7\">\n      <!-- 2 -->\n      <g transform=\"translate(7.2 78.949219)scale(0.1 -0.1)\">\n       <use xlink:href=\"#DejaVuSans-50\"/>\n      </g>\n     </g>\n    </g>\n    <g id=\"ytick_4\">\n     <g id=\"line2d_8\">\n      <g>\n       <use style=\"stroke:#000000;stroke-width:0.8;\" x=\"20.5625\" xlink:href=\"#m01276a84ad\" y=\"102.33\"/>\n      </g>\n     </g>\n     <g id=\"text_8\">\n      <!-- 3 -->\n      <g transform=\"translate(7.2 106.129219)scale(0.1 -0.1)\">\n       <defs>\n        <path d=\"M 40.578125 39.3125 \nQ 47.65625 37.796875 51.625 33 \nQ 55.609375 28.21875 55.609375 21.1875 \nQ 55.609375 10.40625 48.1875 4.484375 \nQ 40.765625 -1.421875 27.09375 -1.421875 \nQ 22.515625 -1.421875 17.65625 -0.515625 \nQ 12.796875 0.390625 7.625 2.203125 \nL 7.625 11.71875 \nQ 11.71875 9.328125 16.59375 8.109375 \nQ 21.484375 6.890625 26.8125 6.890625 \nQ 36.078125 6.890625 40.9375 10.546875 \nQ 45.796875 14.203125 45.796875 21.1875 \nQ 45.796875 27.640625 41.28125 31.265625 \nQ 36.765625 34.90625 28.71875 34.90625 \nL 20.21875 34.90625 \nL 20.21875 43.015625 \nL 29.109375 43.015625 \nQ 36.375 43.015625 40.234375 45.921875 \nQ 44.09375 48.828125 44.09375 54.296875 \nQ 44.09375 59.90625 40.109375 62.90625 \nQ 36.140625 65.921875 28.71875 65.921875 \nQ 24.65625 65.921875 20.015625 65.03125 \nQ 15.375 64.15625 9.8125 62.3125 \nL 9.8125 71.09375 \nQ 15.4375 72.65625 20.34375 73.4375 \nQ 25.25 74.21875 29.59375 74.21875 \nQ 40.828125 74.21875 47.359375 69.109375 \nQ 53.90625 64.015625 53.90625 55.328125 \nQ 53.90625 49.265625 50.4375 45.09375 \nQ 46.96875 40.921875 40.578125 39.3125 \nz\n\" id=\"DejaVuSans-51\"/>\n       </defs>\n       <use xlink:href=\"#DejaVuSans-51\"/>\n      </g>\n     </g>\n    </g>\n    <g id=\"ytick_5\">\n     <g id=\"line2d_9\">\n      <g>\n       <use style=\"stroke:#000000;stroke-width:0.8;\" x=\"20.5625\" xlink:href=\"#m01276a84ad\" y=\"129.51\"/>\n      </g>\n     </g>\n     <g id=\"text_9\">\n      <!-- 4 -->\n      <g transform=\"translate(7.2 133.309219)scale(0.1 -0.1)\">\n       <use xlink:href=\"#DejaVuSans-52\"/>\n      </g>\n     </g>\n    </g>\n    <g id=\"ytick_6\">\n     <g id=\"line2d_10\">\n      <g>\n       <use style=\"stroke:#000000;stroke-width:0.8;\" x=\"20.5625\" xlink:href=\"#m01276a84ad\" y=\"156.69\"/>\n      </g>\n     </g>\n     <g id=\"text_10\">\n      <!-- 5 -->\n      <g transform=\"translate(7.2 160.489219)scale(0.1 -0.1)\">\n       <defs>\n        <path d=\"M 10.796875 72.90625 \nL 49.515625 72.90625 \nL 49.515625 64.59375 \nL 19.828125 64.59375 \nL 19.828125 46.734375 \nQ 21.96875 47.46875 24.109375 47.828125 \nQ 26.265625 48.1875 28.421875 48.1875 \nQ 40.625 48.1875 47.75 41.5 \nQ 54.890625 34.8125 54.890625 23.390625 \nQ 54.890625 11.625 47.5625 5.09375 \nQ 40.234375 -1.421875 26.90625 -1.421875 \nQ 22.3125 -1.421875 17.546875 -0.640625 \nQ 12.796875 0.140625 7.71875 1.703125 \nL 7.71875 11.625 \nQ 12.109375 9.234375 16.796875 8.0625 \nQ 21.484375 6.890625 26.703125 6.890625 \nQ 35.15625 6.890625 40.078125 11.328125 \nQ 45.015625 15.765625 45.015625 23.390625 \nQ 45.015625 31 40.078125 35.4375 \nQ 35.15625 39.890625 26.703125 39.890625 \nQ 22.75 39.890625 18.8125 39.015625 \nQ 14.890625 38.140625 10.796875 36.28125 \nz\n\" id=\"DejaVuSans-53\"/>\n       </defs>\n       <use xlink:href=\"#DejaVuSans-53\"/>\n      </g>\n     </g>\n    </g>\n    <g id=\"ytick_7\">\n     <g id=\"line2d_11\">\n      <g>\n       <use style=\"stroke:#000000;stroke-width:0.8;\" x=\"20.5625\" xlink:href=\"#m01276a84ad\" y=\"183.87\"/>\n      </g>\n     </g>\n     <g id=\"text_11\">\n      <!-- 6 -->\n      <g transform=\"translate(7.2 187.669219)scale(0.1 -0.1)\">\n       <use xlink:href=\"#DejaVuSans-54\"/>\n      </g>\n     </g>\n    </g>\n    <g id=\"ytick_8\">\n     <g id=\"line2d_12\">\n      <g>\n       <use style=\"stroke:#000000;stroke-width:0.8;\" x=\"20.5625\" xlink:href=\"#m01276a84ad\" y=\"211.05\"/>\n      </g>\n     </g>\n     <g id=\"text_12\">\n      <!-- 7 -->\n      <g transform=\"translate(7.2 214.849219)scale(0.1 -0.1)\">\n       <defs>\n        <path d=\"M 8.203125 72.90625 \nL 55.078125 72.90625 \nL 55.078125 68.703125 \nL 28.609375 0 \nL 18.3125 0 \nL 43.21875 64.59375 \nL 8.203125 64.59375 \nz\n\" id=\"DejaVuSans-55\"/>\n       </defs>\n       <use xlink:href=\"#DejaVuSans-55\"/>\n      </g>\n     </g>\n    </g>\n   </g>\n   <g id=\"patch_3\">\n    <path d=\"M 20.5625 224.64 \nL 20.5625 7.2 \n\" style=\"fill:none;stroke:#000000;stroke-linecap:square;stroke-linejoin:miter;stroke-width:0.8;\"/>\n   </g>\n   <g id=\"patch_4\">\n    <path d=\"M 238.0025 224.64 \nL 238.0025 7.2 \n\" style=\"fill:none;stroke:#000000;stroke-linecap:square;stroke-linejoin:miter;stroke-width:0.8;\"/>\n   </g>\n   <g id=\"patch_5\">\n    <path d=\"M 20.5625 224.64 \nL 238.0025 224.64 \n\" style=\"fill:none;stroke:#000000;stroke-linecap:square;stroke-linejoin:miter;stroke-width:0.8;\"/>\n   </g>\n   <g id=\"patch_6\">\n    <path d=\"M 20.5625 7.2 \nL 238.0025 7.2 \n\" style=\"fill:none;stroke:#000000;stroke-linecap:square;stroke-linejoin:miter;stroke-width:0.8;\"/>\n   </g>\n  </g>\n </g>\n <defs>\n  <clipPath id=\"pe1c70ebc9f\">\n   <rect height=\"217.44\" width=\"217.44\" x=\"20.5625\" y=\"7.2\"/>\n  </clipPath>\n </defs>\n</svg>\n",
      "image/png": "[encoded data removed]"
     },
     "metadata": {
      "needs_background": "light"
     }
    }
   ],
   "source": [
    "for i in range(5):\n",
    "    plt.imshow(sub_X[i].reshape((8,8)))\n",
    "    print(sub_y[i])"
   ]
  },
  {
   "cell_type": "code",
   "execution_count": 347,
   "metadata": {},
   "outputs": [
    {
     "output_type": "stream",
     "name": "stdout",
     "text": [
      "(286, 64). (286,); (72, 64), (72,)\n"
     ]
    }
   ],
   "source": [
    "X_train, X_test, y_train, y_test = train_test_split(X, y, test_size=0.2,random_state=2)\n",
    "print(f\"{X_train.shape}. {y_train.shape}; {X_test.shape}, {y_test.shape}\")"
   ]
  },
  {
   "source": [
    "## SVM dual hard margin"
   ],
   "cell_type": "markdown",
   "metadata": {}
  },
  {
   "cell_type": "code",
   "execution_count": 348,
   "metadata": {},
   "outputs": [],
   "source": [
    "from cvxopt import matrix, solvers"
   ]
  },
  {
   "cell_type": "code",
   "execution_count": 349,
   "metadata": {},
   "outputs": [
    {
     "output_type": "stream",
     "name": "stdout",
     "text": [
      "     pcost       dcost       gap    pres   dres\n 0: -1.9897e+00 -2.3931e+00  4e+02  2e+01  1e+00\n 1: -1.9099e-02 -2.2917e-02  1e+01  7e-01  4e-02\n 2: -3.8462e-03 -1.3463e-02  1e+00  5e-02  3e-03\n 3: -1.7597e-03 -5.9704e-03  9e-02  4e-03  2e-04\n 4: -1.0995e-03 -3.0818e-03  1e-02  6e-04  3e-05\n 5: -1.1809e-03 -7.9689e-04  4e-03  2e-04  9e-06\n 6: -2.4297e-04 -1.6856e-05  7e-04  3e-05  1e-06\n 7: -3.3952e-06 -3.1347e-09  9e-06  3e-07  2e-08\n 8: -3.3985e-08 -3.1352e-13  9e-08  3e-09  2e-10\nOptimal solution found.\n"
     ]
    }
   ],
   "source": [
    "def kernel_svm(X, y):\n",
    "    N = len(y)\n",
    "    alphas = []\n",
    "    y = y.reshape(-1, 1)\n",
    "    yX = y * X\n",
    "    P = matrix(yX.dot(yX.T))\n",
    "    q = matrix((-1) * np.ones(X.shape[0]).reshape((X.shape[0], 1)))\n",
    "    G = matrix((-1) * np.identity(X.shape[0]))\n",
    "    h = matrix(np.zeros(X.shape[0]))\n",
    "    A = matrix(y.reshape(1,-1))\n",
    "    A = matrix(A, (1, X.shape[0]), 'd')\n",
    "    b = matrix(np.zeros(1))\n",
    "    sol = solvers.qp(P, q, G, h, A, b)\n",
    "    alphas = np.array(sol['x']).flatten()\n",
    "    return alphas\n",
    "alphas = kernel_svm(X_train, y_train)"
   ]
  },
  {
   "cell_type": "code",
   "execution_count": 350,
   "metadata": {},
   "outputs": [
    {
     "output_type": "stream",
     "name": "stdout",
     "text": [
      "1.9999971510707548\n"
     ]
    }
   ],
   "source": [
    "def compute_classification_boundary(X, y, alpha):\n",
    "    indices = [alphas > 1e-12]\n",
    "    w = np.dot(X.T, alphas*y).reshape(-1,1)\n",
    "    w0 = y[indices] - np.dot(X[indices], w)\n",
    "    w0 = np.mean(w0)\n",
    "    return w, w0\n",
    "\n",
    "w, w0 = compute_classification_boundary(X_train, y_train, alphas)\n",
    "print(f\"{w0}\")"
   ]
  },
  {
   "cell_type": "code",
   "execution_count": 351,
   "metadata": {},
   "outputs": [],
   "source": [
    "def K(x1, x2):\n",
    "    return np.dot(x1,x2)"
   ]
  },
  {
   "cell_type": "code",
   "execution_count": 352,
   "metadata": {},
   "outputs": [],
   "source": [
    "support_vectors = []\n",
    "for i in range(len(alphas)):\n",
    "    if alphas[i] > 1e-12:\n",
    "        support_vectors.append([X_train[i], y_train[i], i])\n",
    "alpha_indices = [support_vectors[i][2] for i in range(len(support_vectors))]\n",
    "def classify_num(x):\n",
    "    res = 0\n",
    "    for i in range(len(support_vectors)):\n",
    "        res += alphas[alpha_indices[i]]*y_train[alpha_indices[i]]*K(X_train[alpha_indices[i]],x)\n",
    "    if (res >= 0):\n",
    "        return 2\n",
    "    else:\n",
    "        return 6"
   ]
  },
  {
   "cell_type": "code",
   "execution_count": 353,
   "metadata": {},
   "outputs": [
    {
     "output_type": "stream",
     "name": "stdout",
     "text": [
      "Prediction accuracy is 87.5%\n"
     ]
    }
   ],
   "source": [
    "pred = []\n",
    "for i in range(len(X_test)):\n",
    "    pred.append(classify_num(X_test[i]))\n",
    "print('Prediction accuracy is {}%'.format(accuracy_score(y_test, pred) * 100))"
   ]
  },
  {
   "source": [
    "## SVM dual soft margin"
   ],
   "cell_type": "markdown",
   "metadata": {}
  },
  {
   "cell_type": "code",
   "execution_count": 354,
   "metadata": {},
   "outputs": [
    {
     "output_type": "stream",
     "name": "stdout",
     "text": [
      "     pcost       dcost       gap    pres   dres\n",
      " 0: -9.9832e-01 -3.2939e-01  7e+02  3e+01  1e-13\n",
      " 1: -2.0125e-02 -3.2847e-01  1e+01  4e-01  2e-13\n",
      " 2: -5.5310e-03 -2.9078e-01  7e-01  2e-02  7e-15\n",
      " 3: -2.0631e-03 -9.1451e-02  1e-01  2e-03  1e-15\n",
      " 4: -1.3863e-03 -2.6888e-02  3e-02  6e-04  1e-15\n",
      " 5: -8.7897e-04 -7.3657e-03  1e-02  1e-04  1e-15\n",
      " 6: -6.3265e-05 -6.1791e-04  8e-04  1e-05  2e-15\n",
      " 7: -6.6491e-07 -6.3231e-06  9e-06  1e-07  2e-15\n",
      " 8: -6.6503e-09 -6.3230e-08  9e-08  1e-09  1e-15\n",
      "Optimal solution found.\n"
     ]
    }
   ],
   "source": [
    "def kernel_svm_soft(X, y, C):\n",
    "    N = len(y)\n",
    "    alphas = []\n",
    "    y = y.reshape(-1, 1)\n",
    "    yX = y * X\n",
    "    \n",
    "    P = matrix(yX.dot(yX.T))\n",
    "    q = matrix((-1) * np.ones(X.shape[0]).reshape((X.shape[0], 1)))\n",
    "\n",
    "    G = matrix(np.vstack((-1 * np.diag(np.ones(X.shape[0])), np.identity(X.shape[0]))))\n",
    "    h = matrix(np.hstack((np.zeros(X.shape[0]), np.ones(X.shape[0])*C)))\n",
    "\n",
    "    A = matrix(y.reshape(1,-1))\n",
    "    A = matrix(A, (1, X.shape[0]), 'd')\n",
    "    b = matrix(np.zeros(1))\n",
    "    sol = solvers.qp(P, q, G, h, A, b)\n",
    "    alphas = np.array(sol['x']).flatten()\n",
    "    return alphas\n",
    "alphas = kernel_svm_soft(X_train, y_train, 0.001)"
   ]
  },
  {
   "cell_type": "code",
   "execution_count": 355,
   "metadata": {},
   "outputs": [
    {
     "output_type": "stream",
     "name": "stdout",
     "text": [
      "1.9999994268465084\n"
     ]
    }
   ],
   "source": [
    "w, w0 = compute_classification_boundary(X_train, y_train, alphas)\n",
    "print(f\"{w0}\")"
   ]
  },
  {
   "cell_type": "code",
   "execution_count": 356,
   "metadata": {},
   "outputs": [],
   "source": [
    "support_vectors = []\n",
    "for i in range(len(alphas)):\n",
    "    if alphas[i] > 1e-12:\n",
    "        support_vectors.append([X_train[i], y_train[i], i])\n",
    "alpha_indices = [support_vectors[i][2] for i in range(len(support_vectors))]\n",
    "def classify_num(x):\n",
    "    res = 0\n",
    "    for i in range(len(support_vectors)):\n",
    "        res += alphas[alpha_indices[i]]*y_train[alpha_indices[i]]*K(X_train[alpha_indices[i]],x)\n",
    "    if (res >= 0):\n",
    "        return 2\n",
    "    else:\n",
    "        return 6"
   ]
  },
  {
   "cell_type": "code",
   "execution_count": 357,
   "metadata": {},
   "outputs": [
    {
     "output_type": "stream",
     "name": "stdout",
     "text": [
      "Prediction accuracy is 90.27777777777779%\n"
     ]
    }
   ],
   "source": [
    "pred = []\n",
    "for i in range(len(X_test)):\n",
    "    pred.append(classify_num(X_test[i]))\n",
    "print('Prediction accuracy is {}%'.format(accuracy_score(y_test, pred) * 100))"
   ]
  }
 ]
}