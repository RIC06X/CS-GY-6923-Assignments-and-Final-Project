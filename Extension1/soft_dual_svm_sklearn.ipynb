{
 "metadata": {
  "language_info": {
   "codemirror_mode": {
    "name": "ipython",
    "version": 3
   },
   "file_extension": ".py",
   "mimetype": "text/x-python",
   "name": "python",
   "nbconvert_exporter": "python",
   "pygments_lexer": "ipython3",
   "version": "3.8.5-final"
  },
  "orig_nbformat": 2,
  "kernelspec": {
   "name": "python3",
   "display_name": "Python 3"
  }
 },
 "nbformat": 4,
 "nbformat_minor": 2,
 "cells": [
  {
   "cell_type": "code",
   "execution_count": 2,
   "metadata": {},
   "outputs": [],
   "source": [
    "from sklearn.datasets import load_digits # The MNIST data set is in scikit learn data set\n",
    "from sklearn.datasets import load_breast_cancer\n",
    "from sklearn.preprocessing import StandardScaler  # It is important in neural networks to scale the date\n",
    "from sklearn.model_selection import train_test_split  # The standard - train/test to prevent overfitting and choose hyperparameters\n",
    "from sklearn.metrics import accuracy_score # \n",
    "from sklearn import svm\n",
    "import numpy as np\n",
    "import numpy.random as r # We will randomly initialize our weights\n",
    "import matplotlib.pyplot as plt \n",
    "from math import exp\n",
    "import csv\n",
    "from numpy import genfromtxt"
   ]
  },
  {
   "cell_type": "code",
   "execution_count": 434,
   "metadata": {},
   "outputs": [],
   "source": [
    "X = genfromtxt('X.csv', delimiter=',') # reading in the data matrix\n",
    "y = genfromtxt('y.csv', delimiter=',') # reading in the labels"
   ]
  },
  {
   "cell_type": "code",
   "execution_count": 435,
   "metadata": {},
   "outputs": [
    {
     "output_type": "stream",
     "name": "stdout",
     "text": [
      "(30, 2). (30,); (70, 2), (70,)\n"
     ]
    }
   ],
   "source": [
    "X_train, X_test, y_train, y_test = train_test_split(X, y, test_size=0.7,random_state=2)\n",
    "print(f\"{X_train.shape}. {y_train.shape}; {X_test.shape}, {y_test.shape}\")"
   ]
  },
  {
   "cell_type": "code",
   "execution_count": 436,
   "metadata": {},
   "outputs": [
    {
     "output_type": "stream",
     "name": "stdout",
     "text": [
      "Prediction accuracy is 100.0%\n"
     ]
    }
   ],
   "source": [
    "model = svm.SVC(kernel='linear', gamma='auto')\n",
    "model.fit(X_train, y_train)\n",
    "pred = model.predict(X_test)\n",
    "print('Prediction accuracy is {}%'.format(accuracy_score(y_test, pred) * 100))"
   ]
  },
  {
   "cell_type": "code",
   "execution_count": 437,
   "metadata": {},
   "outputs": [
    {
     "output_type": "stream",
     "name": "stdout",
     "text": [
      "Prediction accuracy is 100.0%\n"
     ]
    }
   ],
   "source": [
    "model_soft = svm.SVC(kernel='linear', C=0.001, gamma='auto')\n",
    "model.fit(X_train, y_train)\n",
    "pred = model.predict(X_test)\n",
    "print('Prediction accuracy is {}%'.format(accuracy_score(y_test, pred) * 100))"
   ]
  },
  {
   "source": [
    "# Dataset: Digits"
   ],
   "cell_type": "markdown",
   "metadata": {}
  },
  {
   "cell_type": "code",
   "execution_count": 83,
   "metadata": {},
   "outputs": [
    {
     "output_type": "stream",
     "name": "stdout",
     "text": [
      "(286, 64). (286,); (72, 64), (72,)\n"
     ]
    }
   ],
   "source": [
    "digits = load_digits()\n",
    "X , y = digits.data, digits.target\n",
    "X_scale = StandardScaler()\n",
    "X = X_scale.fit_transform(X)\n",
    "\n",
    "sub_X, sub_y = [], []\n",
    "for i in range(len(X)):\n",
    "    if y[i] == 2 or y[i] == 6:\n",
    "        sub_X.append(X[i])\n",
    "        sub_y.append(y[i])\n",
    "sub_X = np.array(sub_X)\n",
    "sub_y = np.array(sub_y)\n",
    "X = sub_X\n",
    "y = sub_y\n",
    "\n",
    "X_train, X_test, y_train, y_test = train_test_split(X, y, test_size=0.2,random_state=2)\n",
    "print(f\"{X_train.shape}. {y_train.shape}; {X_test.shape}, {y_test.shape}\")"
   ]
  },
  {
   "cell_type": "code",
   "execution_count": 91,
   "metadata": {},
   "outputs": [
    {
     "output_type": "stream",
     "name": "stdout",
     "text": [
      "Prediction accuracy is 98.61111111111111%\n"
     ]
    }
   ],
   "source": [
    "model = svm.SVC(kernel='linear', gamma='auto')\n",
    "model.fit(X_train, y_train)\n",
    "pred = model.predict(X_test)\n",
    "print('Prediction accuracy is {}%'.format(accuracy_score(y_test, pred) * 100))"
   ]
  },
  {
   "cell_type": "code",
   "execution_count": 100,
   "metadata": {},
   "outputs": [
    {
     "output_type": "stream",
     "name": "stdout",
     "text": [
      "C = 1e-05,     accuracy = 56.73611111111111\nC = 0.001,     accuracy = 100.0\nC = 0.01,     accuracy = 100.0\nC = 1,     accuracy = 100.0\n"
     ]
    }
   ],
   "source": [
    "from sklearn.model_selection import KFold\n",
    "from statistics import mean\n",
    "\n",
    "X = np.append(X_train, X_test, axis=0)\n",
    "y = np.append(y_train, y_test, axis=0)\n",
    "kf = KFold(n_splits=20, shuffle=True)\n",
    "kf.get_n_splits(X)\n",
    "C = [1e-5, 1e-3, 1e-2, 1]\n",
    "avg_res = []\n",
    "for i in range(len(C)):\n",
    "    res = []\n",
    "    for train, test in kf.split(X):\n",
    "        model = svm.SVC(kernel='linear', C=C[i], gamma='auto')\n",
    "        model.fit(X[train], y[train])\n",
    "        y_pred = model.predict(X_test)\n",
    "        res.append(accuracy_score(y_test, y_pred) * 100)\n",
    "    avg_res.append(mean(res))\n",
    "    print(f\"C = {C[i]},     accuracy = {avg_res[i]}\")"
   ]
  },
  {
   "cell_type": "code",
   "execution_count": null,
   "metadata": {},
   "outputs": [],
   "source": []
  }
 ]
}